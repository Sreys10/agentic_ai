{
 "cells": [
  {
   "cell_type": "markdown",
   "id": "676d35ee",
   "metadata": {},
   "source": [
    "# Pydantic\n",
    "\n",
    "Pydantic is a Python library used for data validation and data parsing based on Python type annotations. It's especially useful when you're working with APIs, databases, or any external input where you need to make sure that the data you’re working with is the correct type and structure"
   ]
  },
  {
   "cell_type": "code",
   "execution_count": 5,
   "id": "7d3d2365",
   "metadata": {},
   "outputs": [],
   "source": [
    "from pydantic import BaseModel"
   ]
  },
  {
   "cell_type": "code",
   "execution_count": 7,
   "id": "28368418",
   "metadata": {},
   "outputs": [],
   "source": [
    "class Person(BaseModel):\n",
    "    name:str\n",
    "    age:int\n",
    "    city:str\n",
    "\n",
    "person= Person(name= \"shreyas\", age= 20, city= \"pune\")\n"
   ]
  },
  {
   "cell_type": "code",
   "execution_count": 8,
   "id": "5501303c",
   "metadata": {},
   "outputs": [
    {
     "name": "stdout",
     "output_type": "stream",
     "text": [
      "name='shreyas' age=20 city='pune'\n"
     ]
    }
   ],
   "source": [
    "print(person)"
   ]
  },
  {
   "cell_type": "code",
   "execution_count": null,
   "id": "4b9c55f7",
   "metadata": {},
   "outputs": [],
   "source": []
  }
 ],
 "metadata": {
  "kernelspec": {
   "display_name": "Python 3",
   "language": "python",
   "name": "python3"
  },
  "language_info": {
   "codemirror_mode": {
    "name": "ipython",
    "version": 3
   },
   "file_extension": ".py",
   "mimetype": "text/x-python",
   "name": "python",
   "nbconvert_exporter": "python",
   "pygments_lexer": "ipython3",
   "version": "3.12.0"
  }
 },
 "nbformat": 4,
 "nbformat_minor": 5
}
