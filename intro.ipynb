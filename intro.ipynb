{
 "cells": [
  {
   "cell_type": "markdown",
   "id": "676d35ee",
   "metadata": {},
   "source": [
    "# Pydantic\n",
    "\n",
    "Pydantic is a Python library used for data validation and data parsing based on Python type annotations. It's especially useful when you're working with APIs, databases, or any external input where you need to make sure that the data you’re working with is the correct type and structure"
   ]
  },
  {
   "cell_type": "code",
   "execution_count": 1,
   "id": "7d3d2365",
   "metadata": {},
   "outputs": [],
   "source": [
    "from pydantic import BaseModel"
   ]
  },
  {
   "cell_type": "code",
   "execution_count": 2,
   "id": "28368418",
   "metadata": {},
   "outputs": [],
   "source": [
    "class Person(BaseModel):\n",
    "    name:str\n",
    "    age:int\n",
    "    city:str\n",
    "\n",
    "person= Person(name= \"shreyas\", age= 20, city= \"pune\")\n"
   ]
  },
  {
   "cell_type": "code",
   "execution_count": 3,
   "id": "5501303c",
   "metadata": {},
   "outputs": [
    {
     "name": "stdout",
     "output_type": "stream",
     "text": [
      "name='shreyas' age=20 city='pune'\n"
     ]
    }
   ],
   "source": [
    "print(person)"
   ]
  },
  {
   "cell_type": "markdown",
   "id": "7b990dbd",
   "metadata": {},
   "source": [
    "Pydantic Fields: Customization and Constraints\n",
    "use to set the limits\n"
   ]
  },
  {
   "cell_type": "code",
   "execution_count": 5,
   "id": "dc6fce88",
   "metadata": {},
   "outputs": [
    {
     "name": "stdout",
     "output_type": "stream",
     "text": [
      "name='apple' price=10.5 quantity=5\n"
     ]
    }
   ],
   "source": [
    "from pydantic import BaseModel, Field\n",
    "\n",
    "class Item(BaseModel):\n",
    "    name:str= Field(min_lenght= 2, max_lenght= 50)\n",
    "    price: float= Field(gt=0, le=1000)\n",
    "    quantity:int= Field(ge=0)\n",
    "\n",
    "item= Item(name=\"apple\", price=10.5, quantity=5)\n",
    "print (item)"
   ]
  },
  {
   "cell_type": "code",
   "execution_count": null,
   "id": "0b899e47",
   "metadata": {},
   "outputs": [],
   "source": []
  }
 ],
 "metadata": {
  "kernelspec": {
   "display_name": "Python 3",
   "language": "python",
   "name": "python3"
  },
  "language_info": {
   "codemirror_mode": {
    "name": "ipython",
    "version": 3
   },
   "file_extension": ".py",
   "mimetype": "text/x-python",
   "name": "python",
   "nbconvert_exporter": "python",
   "pygments_lexer": "ipython3",
   "version": "3.12.0"
  }
 },
 "nbformat": 4,
 "nbformat_minor": 5
}
