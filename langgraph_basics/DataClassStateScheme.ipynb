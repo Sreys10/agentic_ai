{
 "cells": [
  {
   "cell_type": "markdown",
   "id": "d4cf5662",
   "metadata": {},
   "source": []
  },
  {
   "cell_type": "code",
   "execution_count": 3,
   "id": "59193614",
   "metadata": {},
   "outputs": [],
   "source": [
    "from typing_extensions import TypedDict\n",
    "from typing import Literal\n",
    "\n",
    "class TypeDisctState(TypedDict):\n",
    "    name:str\n",
    "    game:Literal[\"cricket\",\"badminton\"]\n"
   ]
  },
  {
   "cell_type": "code",
   "execution_count": 6,
   "id": "c834a8dd",
   "metadata": {},
   "outputs": [],
   "source": [
    "def play_game(state: TypeDisctState):\n",
    "    print(\"Play Game node has beed called\")\n",
    "    return {\"name\": state[\"name\"]+ \"want to play\"}\n",
    "\n",
    "def cricket(state: TypeDisctState):\n",
    "    print(\"Cricket node has beed called\")\n",
    "    return {\"game\": \"cricket\"}\n",
    "\n",
    "def badminton(state: TypeDisctState):\n",
    "    print(\"Badminton node has beed called\")\n",
    "    return {\"game\": \"badminton\"}"
   ]
  },
  {
   "cell_type": "code",
   "execution_count": 7,
   "id": "0696866c",
   "metadata": {},
   "outputs": [],
   "source": [
    "import random\n",
    "from IPython.display import Image,display\n",
    "from langgraph.graph import StateGraph, START, END "
   ]
  },
  {
   "cell_type": "code",
   "execution_count": null,
   "id": "44728d2d",
   "metadata": {},
   "outputs": [],
   "source": []
  }
 ],
 "metadata": {
  "kernelspec": {
   "display_name": "Python 3",
   "language": "python",
   "name": "python3"
  },
  "language_info": {
   "codemirror_mode": {
    "name": "ipython",
    "version": 3
   },
   "file_extension": ".py",
   "mimetype": "text/x-python",
   "name": "python",
   "nbconvert_exporter": "python",
   "pygments_lexer": "ipython3",
   "version": "3.12.0"
  }
 },
 "nbformat": 4,
 "nbformat_minor": 5
}
